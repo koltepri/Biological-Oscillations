{
 "cells": [
  {
   "cell_type": "code",
   "execution_count": null,
   "id": "b637ba2e",
   "metadata": {},
   "outputs": [],
   "source": [
    "import numpy as np"
   ]
  },
  {
   "cell_type": "code",
   "execution_count": null,
   "id": "72c89497",
   "metadata": {},
   "outputs": [],
   "source": [
    "def repressilatorSimulation(alpha_0, alpha, beta, n, showBool):\n",
    "    doesConverge = False\n",
    "    \n",
    "    # Create a model\n",
    "    model = pints.toy.RepressilatorModel()\n",
    "\n",
    "    # Run a simulation\n",
    "    parameters = [alpha_0,alpha,beta,n]\n",
    "    times = np.linspace(0, 100, 1000)\n",
    "    values = model.simulate(parameters, times)\n",
    "    \n",
    "    peaks, _ = find_peaks(values[:, 0])\n",
    "    period = np.mean(np.diff(times[peaks]))\n",
    "    \n",
    "    # Calculate the amplitude of the oscillation : Naive\n",
    "    amplitudeNaive = np.max(values[:, 0]) - np.min(values[10:, 0]) # not right at the start\n",
    "    l = int(len(values) / 2)\n",
    "    convergesFirstHalf = np.max(values[1:l,0]) - np.min(values[1:l,0])\n",
    "    convergesSndHalf = np.max(values[l:,0]) - np.min(values[l:,0])\n",
    "\n",
    "    if (convergesFirstHalf > convergesSndHalf*5 or convergesFirstHalf*5 < convergesSndHalf):\n",
    "        doesConverge = True\n",
    "\n",
    "    if (showBool):\n",
    "        print('Parameters:', parameters)\n",
    "        print('Period:', period)\n",
    "        print('AmplitudeNaive:', amplitudeNaive)\n",
    "        print('Converges = ', doesConverge)\n",
    "\n",
    "        # Plot the results\n",
    "        plt.figure()\n",
    "        plt.xlabel('Time')\n",
    "        plt.ylabel('Concentration')\n",
    "        plt.plot(times, values)\n",
    "        plt.legend(['X', 'Y', 'Z'])\n",
    "        plt.show()\n",
    "    return [values, period, amplitudeNaive,doesConverge]"
   ]
  },
  {
   "cell_type": "code",
   "execution_count": null,
   "id": "865dadc6",
   "metadata": {},
   "outputs": [],
   "source": [
    "def noiseAnalysis(alpha_0, alpha, beta, n, showBool):\n",
    "    originalResult = repressilatorSimulation(alpha_0,alpha,beta,n,False)\n",
    "    results = []\n",
    "    for i in range(100):\n",
    "        parameters = [alpha_0,alpha,beta,n] + 0.1*np.random.randn(4)\n",
    "        results.append(repressilatorSimulation(*parameters,False))\n",
    "    # Quantifying Fluctuations in values : NOISE analysis\n",
    "    peroidFluctuations = np.mean(np.abs(originalResult[1]-[row[1] for row in results]))\n",
    "    asPercentage = peroidFluctuations / originalResult[1]\n",
    "    #print(asPercentage) # 6.5% Fluctuations\n",
    "\n",
    "    amplitudeFluctuations =  np.mean(np.abs(originalResult[2]-[row[2] for row in results]))\n",
    "    asPercentage2 = amplitudeFluctuations / originalResult[2]\n",
    "    #print(asPercentage2) # 25.1% Fluctuations\n",
    "    return [asPercentage, asPercentage2]"
   ]
  },
  {
   "cell_type": "code",
   "execution_count": null,
   "id": "48395a74",
   "metadata": {},
   "outputs": [],
   "source": [
    "# Parameter Sensitivity Analysis --> what do the input variables do?\n",
    "# Changing alpha_0\n",
    "alpha_0 = [0,2,4,8,16,32]\n",
    "results = np.array([])\n",
    "for i in range(len(alpha_0)):\n",
    "    results = np.append(results,repressilatorSimulation(alpha_0[i],1000,5,2,True))\n"
   ]
  },
  {
   "cell_type": "code",
   "execution_count": null,
   "id": "ac674977",
   "metadata": {},
   "outputs": [],
   "source": [
    "# Changing alpha\n",
    "alpha = [10,50,250,1250,6250]\n",
    "results = np.array([])\n",
    "for i in range(len(alpha)):\n",
    "    results = np.append(results,repressilatorSimulation(1,alpha[i],5,2,True))\n"
   ]
  },
  {
   "cell_type": "code",
   "execution_count": null,
   "id": "1f53c916",
   "metadata": {},
   "outputs": [],
   "source": [
    "# Changing beta\n",
    "beta = [1,5,25,100,1000]\n",
    "results = np.array([])\n",
    "for i in range(len(beta)):\n",
    "    results = np.append(results,repressilatorSimulation(1,1000,beta[i],2,True))\n"
   ]
  },
  {
   "cell_type": "code",
   "execution_count": null,
   "id": "b07d62c1",
   "metadata": {},
   "outputs": [],
   "source": [
    "# Changing N \n",
    "N = [1,2,2.2,3,4]\n",
    "results = np.array([])\n",
    "for i in range(len(N)):\n",
    "    results = np.append(results,repressilatorSimulation(1,1000,5,N[i],True))"
   ]
  },
  {
   "cell_type": "code",
   "execution_count": null,
   "id": "d9a84e84",
   "metadata": {},
   "outputs": [],
   "source": [
    "# Convergence Analysis\n",
    "alpha_0 = [0,2,4,8,16,32]\n",
    "alpha = [10,50,250,1250,6250]\n",
    "beta = [1,5,25,100,1000]\n",
    "N = [1,2,2.2,3,4]\n",
    "data = np.array(np.meshgrid(alpha_0,alpha,beta,N)).T.reshape(-1,4)\n",
    "convergenceData = np.array([])\n",
    "for i in range(len(data)):\n",
    "    boolean = repressilatorSimulation(data[i][0],data[i][1],data[i][2],data[i][3],False)[3]\n",
    "    convergenceData = np.append(convergenceData,boolean)\n",
    "\n",
    "data = np.concatenate((data, convergenceData.reshape(-1, 1)), axis=1)\n"
   ]
  },
  {
   "cell_type": "code",
   "execution_count": null,
   "id": "916056a9",
   "metadata": {},
   "outputs": [],
   "source": [
    "import pandas as pd\n",
    "import matplotlib.pyplot as plt\n",
    "import plotly.express as px\n",
    "\n",
    "countConverging = np.count_nonzero(convergenceData)\n",
    "dataLen = len(convergenceData)\n",
    "dataConvergence = data[data[:,4] == 1]\n",
    "dataNonConvergence = data[data[:,4] == 0]\n",
    "# Create a sample dataset with 5 rows and 4 columns\n",
    "df = pd.DataFrame({\n",
    "    'alpha_0': dataNonConvergence[:,0],\n",
    "    'alpha': dataNonConvergence[:,1],\n",
    "    'beta': dataNonConvergence[:,2],\n",
    "    'N': dataNonConvergence[:,3],\n",
    "    'Convergence' : dataNonConvergence[:,4]\n",
    "})\n",
    "\n",
    "fig = px.parallel_categories(df)\n",
    "\n",
    "fig.show()"
   ]
  },
  {
   "cell_type": "code",
   "execution_count": null,
   "id": "5e8d777f",
   "metadata": {},
   "outputs": [],
   "source": [
    "# Analysis of Convergence\n",
    "# % of converging vs NonConverging\n",
    "print('Converging = ',countConverging, '/',dataLen, '=', countConverging/dataLen, '%',\n",
    "      '\\nNonConverging = ' ,(dataLen-countConverging),'/',dataLen, (dataLen-countConverging)/dataLen, '%')"
   ]
  },
  {
   "cell_type": "code",
   "execution_count": null,
   "id": "9e81c1f1",
   "metadata": {},
   "outputs": [],
   "source": [
    "# Same analysis but for non converging data. use to compare\n",
    "dff = pd.DataFrame({\n",
    "    'alpha_0': dataConvergence[:,0],\n",
    "    'alpha': dataConvergence[:,1],\n",
    "    'beta': dataConvergence[:,2],\n",
    "    'N': dataConvergence[:,3],\n",
    "    'Convergence' : dataConvergence[:,4]\n",
    "})\n",
    "fig = px.parallel_categories(dff)\n",
    "\n",
    "fig.show()"
   ]
  },
  {
   "cell_type": "code",
   "execution_count": null,
   "id": "8497f7e1",
   "metadata": {},
   "outputs": [],
   "source": [
    "# Noise analysis for all data, this takes a while\n",
    "noisePeriod = np.array([])\n",
    "noiseAmplitude = np.array([])\n",
    "\n",
    "for i in range(len(dataNonConvergence)):\n",
    "    resultsPeriod = noiseAnalysis(dataNonConvergence[i,0],dataNonConvergence[i,1],\n",
    "                                  dataNonConvergence[i,2],dataNonConvergence[i,3],False)[0]\n",
    "    resultsAmplitude = noiseAnalysis(dataNonConvergence[i,0],dataNonConvergence[i,1],\n",
    "                                     dataNonConvergence[i,2],dataNonConvergence[i,3],False)[1]\n",
    "    noisePeriod = np.append(noisePeriod,resultsPeriod)\n",
    "    noiseAmplitude = np.append(noiseAmplitude,resultsAmplitude)"
   ]
  },
  {
   "cell_type": "code",
   "execution_count": null,
   "id": "0d9a7797",
   "metadata": {},
   "outputs": [],
   "source": [
    "import plotly.express as px\n",
    "dataWperiod = np.concatenate((dataNonConvergence, noisePeriod.reshape(-1, 1)), axis=1)\n",
    "\n",
    "dff = pd.DataFrame({\n",
    "    'alpha_0': dataWperiod[:,0],\n",
    "    'alpha': dataWperiod[:,1],\n",
    "    'beta': dataWperiod[:,2],\n",
    "    'N': dataWperiod[:,3],\n",
    "    'noisePeriod' : dataWperiod[:,5]\n",
    "})\n",
    "fig = px.parallel_coordinates(dff, color=\"noisePeriod\", color_continuous_scale=px.colors.diverging.Tealrose,\n",
    "                             color_continuous_midpoint=2)\n",
    "fig.show()"
   ]
  },
  {
   "cell_type": "code",
   "execution_count": null,
   "id": "72889e27",
   "metadata": {},
   "outputs": [],
   "source": [
    "dataWamlitude = np.concatenate((dataNonConvergence, noiseAmplitude.reshape(-1, 1)), axis=1)\n",
    "\n",
    "dff = pd.DataFrame({\n",
    "    'alpha_0': dataWperiod[:,0],\n",
    "    'alpha': dataWperiod[:,1],\n",
    "    'beta': dataWperiod[:,2],\n",
    "    'N': dataWperiod[:,3],\n",
    "    'noiseAmplitude' : dataWperiod[:,5]\n",
    "})\n",
    "fig = px.parallel_coordinates(dff, color=\"noiseAmplitude\", color_continuous_scale=px.colors.diverging.Tealrose,\n",
    "                             color_continuous_midpoint=2)\n",
    "fig.show()"
   ]
  }
 ],
 "metadata": {
  "kernelspec": {
   "display_name": "Python 3 (ipykernel)",
   "language": "python",
   "name": "python3"
  },
  "language_info": {
   "codemirror_mode": {
    "name": "ipython",
    "version": 3
   },
   "file_extension": ".py",
   "mimetype": "text/x-python",
   "name": "python",
   "nbconvert_exporter": "python",
   "pygments_lexer": "ipython3",
   "version": "3.8.13"
  }
 },
 "nbformat": 4,
 "nbformat_minor": 5
}
